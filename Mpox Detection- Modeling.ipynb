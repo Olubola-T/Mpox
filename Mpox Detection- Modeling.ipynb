{
 "cells": [
  {
   "cell_type": "code",
   "execution_count": 1,
   "id": "84985ba2",
   "metadata": {},
   "outputs": [],
   "source": [
    "import numpy as np\n",
    "import matplotlib.pyplot as plt\n",
    "import tensorflow as tf\n",
    "\n",
    "from pathlib import Path\n",
    "from skimage import io\n",
    "from sklearn.model_selection import train_test_split\n",
    "from sklearn.metrics import accuracy_score\n",
    "\n",
    "from keras.models import Sequential\n",
    "from keras.layers import Conv2D, MaxPool2D, Flatten, Dense, BatchNormalization, Activation, Dropout\n",
    "from keras.optimizers import RMSprop\n"
   ]
  },
  {
   "cell_type": "code",
   "execution_count": 2,
   "id": "4cea545c",
   "metadata": {},
   "outputs": [],
   "source": [
    "def vectorize (directory, label):\n",
    "    \n",
    "    \"\"\"\n",
    "    vectorizes images in a directory and assigns label to them\n",
    " \n",
    "    Args:\n",
    "        directory (str): the directory path\n",
    "        label (int): the class label of the images in that directory\n",
    " \n",
    "    Returns:\n",
    "        list: a list of vectors of the images in the directory\n",
    "    \"\"\"\n",
    "    \n",
    "    image_vectors = []\n",
    "    # iterate over files in that directory\n",
    "    file_names = Path(directory).glob('*')   #returns the name of each file\n",
    "    for file_name in file_names:\n",
    "        image_vector = io.imread(str(file_name))\n",
    "        image_vectors.append((image_vector, label))\n",
    "    \n",
    "    return image_vectors"
   ]
  },
  {
   "cell_type": "code",
   "execution_count": 3,
   "id": "34a07825",
   "metadata": {},
   "outputs": [
    {
     "name": "stdout",
     "output_type": "stream",
     "text": [
      "2357\n",
      "1\n",
      "[[253 235 213]\n",
      " [254 236 214]\n",
      " [255 236 215]\n",
      " [255 235 215]\n",
      " [255 234 215]\n",
      " [255 232 214]\n",
      " [255 229 210]\n",
      " [255 228 209]\n",
      " [255 224 205]\n",
      " [255 223 204]\n",
      " [255 223 203]\n",
      " [255 223 202]\n",
      " [254 222 199]\n",
      " [252 224 200]\n",
      " [253 225 201]\n",
      " [252 228 202]\n",
      " [255 232 206]\n",
      " [255 234 207]\n",
      " [255 235 208]\n",
      " [255 236 209]\n",
      " [255 236 209]\n",
      " [255 234 207]\n",
      " [255 232 206]\n",
      " [255 231 205]\n",
      " [253 229 203]\n",
      " [253 229 203]\n",
      " [254 228 203]\n",
      " [255 229 204]\n",
      " [255 230 205]\n",
      " [255 232 207]\n",
      " [255 234 209]\n",
      " [255 236 210]\n",
      " [255 236 210]\n",
      " [255 237 210]\n",
      " [255 238 211]\n",
      " [255 238 211]\n",
      " [255 239 211]\n",
      " [255 241 212]\n",
      " [255 240 214]\n",
      " [253 242 214]\n",
      " [254 242 216]\n",
      " [251 244 216]\n",
      " [252 245 217]\n",
      " [253 248 219]\n",
      " [254 250 223]\n",
      " [253 249 222]\n",
      " [248 247 219]\n",
      " [248 243 214]\n",
      " [246 232 206]\n",
      " [249 232 206]\n",
      " [251 234 208]\n",
      " [253 236 210]\n",
      " [255 239 213]\n",
      " [255 242 216]\n",
      " [255 245 219]\n",
      " [255 247 221]\n",
      " [255 248 221]\n",
      " [255 246 219]\n",
      " [255 242 215]\n",
      " [253 239 212]\n",
      " [250 236 209]\n",
      " [248 234 207]\n",
      " [245 234 206]\n",
      " [247 233 206]\n",
      " [253 231 208]\n",
      " [255 233 210]\n",
      " [255 236 213]\n",
      " [255 240 216]\n",
      " [255 241 217]\n",
      " [255 241 217]\n",
      " [255 240 215]\n",
      " [255 239 214]\n",
      " [255 239 215]\n",
      " [255 238 214]\n",
      " [255 236 213]\n",
      " [255 233 212]\n",
      " [255 231 210]\n",
      " [255 227 208]\n",
      " [255 226 207]\n",
      " [255 226 205]\n",
      " [255 236 209]\n",
      " [253 240 208]\n",
      " [255 239 209]\n",
      " [255 240 210]\n",
      " [255 239 210]\n",
      " [255 237 209]\n",
      " [255 234 207]\n",
      " [255 233 206]\n",
      " [255 232 205]\n",
      " [255 232 205]\n",
      " [255 231 204]\n",
      " [255 232 204]\n",
      " [255 231 203]\n",
      " [252 231 202]\n",
      " [251 232 202]\n",
      " [251 230 203]\n",
      " [255 230 208]\n",
      " [255 230 210]\n",
      " [255 232 211]\n",
      " [255 234 213]\n",
      " [255 234 213]\n",
      " [255 234 213]\n",
      " [255 233 212]\n",
      " [255 232 211]\n",
      " [255 229 208]\n",
      " [255 228 207]\n",
      " [253 228 206]\n",
      " [251 226 204]\n",
      " [250 225 203]\n",
      " [250 225 203]\n",
      " [250 225 203]\n",
      " [248 226 202]\n",
      " [251 230 203]\n",
      " [252 233 203]\n",
      " [253 234 204]\n",
      " [255 236 206]\n",
      " [255 234 205]\n",
      " [254 233 204]\n",
      " [251 230 201]\n",
      " [250 229 200]\n",
      " [252 228 200]\n",
      " [251 227 199]\n",
      " [252 226 199]\n",
      " [250 224 197]\n",
      " [248 222 195]\n",
      " [246 220 193]\n",
      " [244 218 191]\n",
      " [245 215 187]\n",
      " [249 209 184]\n",
      " [251 207 182]\n",
      " [250 206 179]\n",
      " [250 206 179]\n",
      " [250 209 179]\n",
      " [253 212 182]\n",
      " [255 217 186]\n",
      " [255 219 188]\n",
      " [254 217 190]\n",
      " [254 219 191]\n",
      " [255 220 196]\n",
      " [254 222 197]\n",
      " [255 223 202]\n",
      " [253 225 203]\n",
      " [253 224 206]\n",
      " [252 226 203]\n",
      " [253 227 200]\n",
      " [253 228 197]\n",
      " [253 226 196]\n",
      " [252 225 195]\n",
      " [252 223 193]\n",
      " [250 219 190]\n",
      " [250 217 186]\n",
      " [250 215 185]\n",
      " [255 216 187]\n",
      " [254 215 186]\n",
      " [255 211 182]\n",
      " [255 211 182]\n",
      " [255 209 181]\n",
      " [254 207 179]\n",
      " [250 203 173]\n",
      " [245 200 171]\n",
      " [248 202 176]\n",
      " [249 205 180]\n",
      " [253 209 184]\n",
      " [255 212 187]\n",
      " [255 213 189]\n",
      " [255 214 190]\n",
      " [255 212 189]\n",
      " [255 212 189]\n",
      " [255 206 183]\n",
      " [253 203 180]\n",
      " [249 197 175]\n",
      " [244 192 170]\n",
      " [245 190 169]\n",
      " [246 191 170]\n",
      " [249 194 173]\n",
      " [253 195 173]\n",
      " [255 189 168]\n",
      " [255 185 163]\n",
      " [249 181 158]\n",
      " [241 179 154]\n",
      " [238 181 154]\n",
      " [240 189 160]\n",
      " [249 200 170]\n",
      " [254 207 177]\n",
      " [252 207 176]\n",
      " [251 204 174]\n",
      " [250 201 171]\n",
      " [251 197 169]\n",
      " [254 194 168]\n",
      " [255 193 168]\n",
      " [255 194 170]\n",
      " [255 196 169]\n",
      " [255 196 168]\n",
      " [254 199 168]\n",
      " [255 201 170]\n",
      " [255 200 169]\n",
      " [254 199 168]\n",
      " [253 198 167]\n",
      " [253 198 167]\n",
      " [253 198 167]\n",
      " [250 195 164]\n",
      " [247 192 161]\n",
      " [247 192 161]\n",
      " [251 196 165]\n",
      " [253 198 167]\n",
      " [253 198 167]\n",
      " [255 201 170]\n",
      " [255 205 175]\n",
      " [255 202 177]\n",
      " [255 203 180]\n",
      " [255 205 182]\n",
      " [255 205 182]\n",
      " [255 204 179]\n",
      " [255 202 177]\n",
      " [255 198 174]\n",
      " [255 197 173]\n",
      " [249 192 165]\n",
      " [249 192 165]\n",
      " [249 192 165]\n",
      " [250 193 166]\n",
      " [253 193 165]\n",
      " [253 193 165]\n",
      " [250 190 162]\n",
      " [247 187 159]]\n"
     ]
    }
   ],
   "source": [
    "mp= vectorize ('Data folders/augmented_mp', 1)\n",
    "\n",
    "print(len(mp))\n",
    "print(mp[0][1])\n",
    "print(mp[0][0][0])"
   ]
  },
  {
   "cell_type": "code",
   "execution_count": 4,
   "id": "f9bebaf5",
   "metadata": {},
   "outputs": [],
   "source": [
    "cp= vectorize('Data folders/augmented_cp', 0)"
   ]
  },
  {
   "cell_type": "code",
   "execution_count": 5,
   "id": "e0cfb5db",
   "metadata": {},
   "outputs": [],
   "source": [
    "ms= vectorize('Data folders/augmented_ms', 0)"
   ]
  },
  {
   "cell_type": "code",
   "execution_count": 6,
   "id": "32852380",
   "metadata": {},
   "outputs": [
    {
     "data": {
      "text/plain": [
       "4895"
      ]
     },
     "execution_count": 6,
     "metadata": {},
     "output_type": "execute_result"
    }
   ],
   "source": [
    "skin_lesions= mp + cp + ms\n",
    "len(skin_lesions)"
   ]
  },
  {
   "cell_type": "code",
   "execution_count": 7,
   "id": "540d017f",
   "metadata": {},
   "outputs": [],
   "source": [
    "import random\n",
    "random.seed(17)\n",
    "\n",
    "random.shuffle(skin_lesions)"
   ]
  },
  {
   "cell_type": "code",
   "execution_count": 8,
   "id": "4dc8db25",
   "metadata": {},
   "outputs": [
    {
     "name": "stdout",
     "output_type": "stream",
     "text": [
      "(224, 224, 3) (224, 224, 3) (224, 224, 3)\n"
     ]
    }
   ],
   "source": [
    "print(skin_lesions[0][0].shape, skin_lesions[13][0].shape, skin_lesions[27][0].shape)"
   ]
  },
  {
   "cell_type": "code",
   "execution_count": 9,
   "id": "e0f85ee0",
   "metadata": {
    "scrolled": true
   },
   "outputs": [
    {
     "name": "stdout",
     "output_type": "stream",
     "text": [
      "[0. 1. 1. 1. 1. 1. 0. 1. 1. 1. 1. 0. 1. 1. 0. 0. 1. 0. 0. 1.]\n"
     ]
    }
   ],
   "source": [
    "y= np.array([])\n",
    "    \n",
    "for tuple in skin_lesions:\n",
    "    unit_y= tuple[1]\n",
    "    y= np.append(y, unit_y)\n",
    "    \n",
    "print(y[:20])"
   ]
  },
  {
   "cell_type": "code",
   "execution_count": 10,
   "id": "2244d4ec",
   "metadata": {},
   "outputs": [],
   "source": [
    "from tensorflow.keras.utils import to_categorical"
   ]
  },
  {
   "cell_type": "code",
   "execution_count": 11,
   "id": "29769e65",
   "metadata": {},
   "outputs": [
    {
     "name": "stdout",
     "output_type": "stream",
     "text": [
      "<class 'numpy.ndarray'> \n",
      " [[1. 0.]\n",
      " [1. 0.]\n",
      " [0. 1.]\n",
      " [1. 0.]\n",
      " [1. 0.]\n",
      " [0. 1.]]\n"
     ]
    }
   ],
   "source": [
    "y = to_categorical(y)  \n",
    "print(type(y),'\\n', y[14:20])\n",
    "\n",
    "#tf.one_hot can also be used for one-hot encoding; \n",
    "#however, its output is a tensorflow.python.framework.ops.EagerTensor, \n",
    "#which is not an acceptable data type for train_test_split"
   ]
  },
  {
   "cell_type": "code",
   "execution_count": 12,
   "id": "4fbf0ca9",
   "metadata": {},
   "outputs": [
    {
     "name": "stdout",
     "output_type": "stream",
     "text": [
      "4895 <class 'numpy.ndarray'>\n"
     ]
    }
   ],
   "source": [
    "x= []\n",
    "    \n",
    "for tuple in skin_lesions:\n",
    "    unit_x= tuple[0]\n",
    "    x.append(unit_x)\n",
    "\n",
    "print(len(x), type(x[0]))"
   ]
  },
  {
   "cell_type": "code",
   "execution_count": 13,
   "id": "d94101a8",
   "metadata": {},
   "outputs": [],
   "source": [
    "for array in x:\n",
    "    array= np.array(array, np.float32)/255   #normalizing the pixel values"
   ]
  },
  {
   "cell_type": "code",
   "execution_count": 14,
   "id": "c476efbd",
   "metadata": {},
   "outputs": [],
   "source": [
    "x= np.array(x)"
   ]
  },
  {
   "cell_type": "code",
   "execution_count": 15,
   "id": "50a4d4f6",
   "metadata": {},
   "outputs": [
    {
     "name": "stdout",
     "output_type": "stream",
     "text": [
      "(4895, 224, 224, 3) (4895, 2)\n"
     ]
    }
   ],
   "source": [
    "print(x.shape, y.shape)"
   ]
  },
  {
   "cell_type": "code",
   "execution_count": 16,
   "id": "4e3d4cf1",
   "metadata": {},
   "outputs": [],
   "source": [
    "from sklearn.model_selection import train_test_split"
   ]
  },
  {
   "cell_type": "code",
   "execution_count": 17,
   "id": "226b0333",
   "metadata": {},
   "outputs": [],
   "source": [
    "x_train, x_test, y_train, y_test= train_test_split(x, y, test_size=0.15, random_state=17, stratify=y)"
   ]
  },
  {
   "cell_type": "code",
   "execution_count": 18,
   "id": "bca8f39e",
   "metadata": {},
   "outputs": [
    {
     "name": "stdout",
     "output_type": "stream",
     "text": [
      "4160 735\n"
     ]
    }
   ],
   "source": [
    "print(len(x_train), len(x_test))"
   ]
  },
  {
   "cell_type": "markdown",
   "id": "d973ba58",
   "metadata": {},
   "source": [
    "## Model training and testing"
   ]
  },
  {
   "cell_type": "code",
   "execution_count": 19,
   "id": "d85c9017",
   "metadata": {},
   "outputs": [],
   "source": [
    "model = Sequential()\n",
    "#conv layer 1\n",
    "model.add(Conv2D(filters = 8, kernel_size = (5,5), padding = 'Same', \n",
    "                 activation ='relu', input_shape = (224, 224, 3)))\n",
    "model.add(MaxPool2D(pool_size=(2,2)))\n",
    "\n",
    "#conv layer 2\n",
    "model.add(Conv2D(filters = 16, kernel_size = (3,3), padding = 'Same', \n",
    "                 activation ='relu'))\n",
    "model.add(MaxPool2D(pool_size=(2,2)))\n",
    "\n",
    "# fully connected layers\n",
    "model.add(Flatten(input_shape=(224, 224, 3)))\n",
    "model.add(Dense(256))\n",
    "model.add(BatchNormalization(epsilon=1e-06, momentum=0.9, weights=None))\n",
    "model.add(Activation('tanh'))\n",
    "model.add(Dropout(0.2))\n",
    "\n",
    "model.add(Dense(128))\n",
    "model.add(BatchNormalization(epsilon=1e-06, momentum=0.9, weights=None))\n",
    "model.add(Activation('tanh'))\n",
    "model.add(Dropout(0.2))\n",
    "\n",
    "model.add(Dense(64))\n",
    "model.add(BatchNormalization(epsilon=1e-06, momentum=0.9, weights=None))\n",
    "model.add(Activation('tanh'))\n",
    "model.add(Dropout(0.2))\n",
    "\n",
    "model.add(Dense(2, activation='sigmoid'))"
   ]
  },
  {
   "cell_type": "code",
   "execution_count": 20,
   "id": "0ab6f1b5",
   "metadata": {},
   "outputs": [],
   "source": [
    "optimizer = RMSprop(learning_rate=0.01)"
   ]
  },
  {
   "cell_type": "code",
   "execution_count": 21,
   "id": "2f9c72a8",
   "metadata": {},
   "outputs": [],
   "source": [
    "model.compile(optimizer = optimizer , loss = \"binary_crossentropy\", metrics=[\"accuracy\"])"
   ]
  },
  {
   "cell_type": "code",
   "execution_count": 22,
   "id": "776281e4",
   "metadata": {},
   "outputs": [
    {
     "name": "stdout",
     "output_type": "stream",
     "text": [
      "Model: \"sequential\"\n",
      "_________________________________________________________________\n",
      " Layer (type)                Output Shape              Param #   \n",
      "=================================================================\n",
      " conv2d (Conv2D)             (None, 224, 224, 8)       608       \n",
      "                                                                 \n",
      " max_pooling2d (MaxPooling2D  (None, 112, 112, 8)      0         \n",
      " )                                                               \n",
      "                                                                 \n",
      " conv2d_1 (Conv2D)           (None, 112, 112, 16)      1168      \n",
      "                                                                 \n",
      " max_pooling2d_1 (MaxPooling  (None, 56, 56, 16)       0         \n",
      " 2D)                                                             \n",
      "                                                                 \n",
      " flatten (Flatten)           (None, 50176)             0         \n",
      "                                                                 \n",
      " dense (Dense)               (None, 256)               12845312  \n",
      "                                                                 \n",
      " batch_normalization (BatchN  (None, 256)              1024      \n",
      " ormalization)                                                   \n",
      "                                                                 \n",
      " activation (Activation)     (None, 256)               0         \n",
      "                                                                 \n",
      " dropout (Dropout)           (None, 256)               0         \n",
      "                                                                 \n",
      " dense_1 (Dense)             (None, 128)               32896     \n",
      "                                                                 \n",
      " batch_normalization_1 (Batc  (None, 128)              512       \n",
      " hNormalization)                                                 \n",
      "                                                                 \n",
      " activation_1 (Activation)   (None, 128)               0         \n",
      "                                                                 \n",
      " dropout_1 (Dropout)         (None, 128)               0         \n",
      "                                                                 \n",
      " dense_2 (Dense)             (None, 64)                8256      \n",
      "                                                                 \n",
      " batch_normalization_2 (Batc  (None, 64)               256       \n",
      " hNormalization)                                                 \n",
      "                                                                 \n",
      " activation_2 (Activation)   (None, 64)                0         \n",
      "                                                                 \n",
      " dropout_2 (Dropout)         (None, 64)                0         \n",
      "                                                                 \n",
      " dense_3 (Dense)             (None, 2)                 130       \n",
      "                                                                 \n",
      "=================================================================\n",
      "Total params: 12,890,162\n",
      "Trainable params: 12,889,266\n",
      "Non-trainable params: 896\n",
      "_________________________________________________________________\n"
     ]
    }
   ],
   "source": [
    "model.summary()"
   ]
  },
  {
   "cell_type": "code",
   "execution_count": 23,
   "id": "b8582824",
   "metadata": {},
   "outputs": [
    {
     "name": "stdout",
     "output_type": "stream",
     "text": [
      "Epoch 1/30\n",
      "21/21 [==============================] - 101s 5s/step - loss: 0.7051 - accuracy: 0.6200\n",
      "Epoch 2/30\n",
      "21/21 [==============================] - 87s 4s/step - loss: 0.6497 - accuracy: 0.6394\n",
      "Epoch 3/30\n",
      "21/21 [==============================] - 85s 4s/step - loss: 0.6403 - accuracy: 0.6464\n",
      "Epoch 4/30\n",
      "21/21 [==============================] - 85s 4s/step - loss: 0.6369 - accuracy: 0.6529\n",
      "Epoch 5/30\n",
      "21/21 [==============================] - 85s 4s/step - loss: 0.6226 - accuracy: 0.6709\n",
      "Epoch 6/30\n",
      "21/21 [==============================] - 84s 4s/step - loss: 0.6137 - accuracy: 0.6709\n",
      "Epoch 7/30\n",
      "21/21 [==============================] - 86s 4s/step - loss: 0.6044 - accuracy: 0.6796\n",
      "Epoch 8/30\n",
      "21/21 [==============================] - 88s 4s/step - loss: 0.5977 - accuracy: 0.6805\n",
      "Epoch 9/30\n",
      "21/21 [==============================] - 90s 4s/step - loss: 0.5881 - accuracy: 0.6947\n",
      "Epoch 10/30\n",
      "21/21 [==============================] - 92s 4s/step - loss: 0.5790 - accuracy: 0.7002\n",
      "Epoch 11/30\n",
      "21/21 [==============================] - 94s 4s/step - loss: 0.5685 - accuracy: 0.7089\n",
      "Epoch 12/30\n",
      "21/21 [==============================] - 89s 4s/step - loss: 0.5367 - accuracy: 0.7279\n",
      "Epoch 13/30\n",
      "21/21 [==============================] - 91s 4s/step - loss: 0.5212 - accuracy: 0.7337\n",
      "Epoch 14/30\n",
      "21/21 [==============================] - 95s 4s/step - loss: 0.4658 - accuracy: 0.7817\n",
      "Epoch 15/30\n",
      "21/21 [==============================] - 110s 5s/step - loss: 0.4320 - accuracy: 0.7990\n",
      "Epoch 16/30\n",
      "21/21 [==============================] - 106s 5s/step - loss: 0.4033 - accuracy: 0.8204\n",
      "Epoch 17/30\n",
      "21/21 [==============================] - 109s 5s/step - loss: 0.3807 - accuracy: 0.8325\n",
      "Epoch 18/30\n",
      "21/21 [==============================] - 115s 5s/step - loss: 0.3454 - accuracy: 0.8433\n",
      "Epoch 19/30\n",
      "21/21 [==============================] - 105s 5s/step - loss: 0.3102 - accuracy: 0.8678\n",
      "Epoch 20/30\n",
      "21/21 [==============================] - 109s 5s/step - loss: 0.2828 - accuracy: 0.8769\n",
      "Epoch 21/30\n",
      "21/21 [==============================] - 100s 5s/step - loss: 0.2870 - accuracy: 0.8784\n",
      "Epoch 22/30\n",
      "21/21 [==============================] - 98s 5s/step - loss: 0.2440 - accuracy: 0.9017\n",
      "Epoch 23/30\n",
      "21/21 [==============================] - 104s 5s/step - loss: 0.2219 - accuracy: 0.9099\n",
      "Epoch 24/30\n",
      "21/21 [==============================] - 106s 5s/step - loss: 0.1762 - accuracy: 0.9288\n",
      "Epoch 25/30\n",
      "21/21 [==============================] - 105s 5s/step - loss: 0.1770 - accuracy: 0.9286\n",
      "Epoch 26/30\n",
      "21/21 [==============================] - 107s 5s/step - loss: 0.1640 - accuracy: 0.9346\n",
      "Epoch 27/30\n",
      "21/21 [==============================] - 109s 5s/step - loss: 0.1850 - accuracy: 0.9284\n",
      "Epoch 28/30\n",
      "21/21 [==============================] - 110s 5s/step - loss: 0.1000 - accuracy: 0.9625\n",
      "Epoch 29/30\n",
      "21/21 [==============================] - 100s 5s/step - loss: 0.1119 - accuracy: 0.9596\n",
      "Epoch 30/30\n",
      "21/21 [==============================] - 98s 5s/step - loss: 0.1333 - accuracy: 0.9514\n"
     ]
    }
   ],
   "source": [
    "history= model.fit(x_train, y_train, epochs=30, batch_size=200) "
   ]
  },
  {
   "cell_type": "code",
   "execution_count": 24,
   "id": "5926ba35",
   "metadata": {},
   "outputs": [
    {
     "data": {
      "text/plain": [
       "[<matplotlib.lines.Line2D at 0x251676b3130>]"
      ]
     },
     "execution_count": 24,
     "metadata": {},
     "output_type": "execute_result"
    },
    {
     "data": {
      "image/png": "[encoded data removed]",
      "text/plain": [
       "<Figure size 640x480 with 1 Axes>"
      ]
     },
     "metadata": {},
     "output_type": "display_data"
    }
   ],
   "source": [
    "plt.plot(history.history[\"accuracy\"])"
   ]
  },
  {
   "cell_type": "code",
   "execution_count": 25,
   "id": "06e9d15d",
   "metadata": {},
   "outputs": [
    {
     "name": "stdout",
     "output_type": "stream",
     "text": [
      "23/23 [==============================] - 7s 300ms/step - loss: 0.7400 - accuracy: 0.8000\n",
      "[0.7399643063545227, 0.800000011920929]\n"
     ]
    }
   ],
   "source": [
    "performance = model.evaluate(x_test, y_test)\n",
    "\n",
    "print(performance)"
   ]
  },
  {
   "cell_type": "code",
   "execution_count": 26,
   "id": "cca77513",
   "metadata": {},
   "outputs": [
    {
     "name": "stdout",
     "output_type": "stream",
     "text": [
      "23/23 [==============================] - 5s 210ms/step\n"
     ]
    }
   ],
   "source": [
    "y_pred = model.predict(x_test)"
   ]
  },
  {
   "cell_type": "code",
   "execution_count": 27,
   "id": "1922ce76",
   "metadata": {},
   "outputs": [
    {
     "data": {
      "text/plain": [
       "array([1, 1, 0, 0, 0, 1, 1, 0, 1, 1, 1, 1, 1, 1, 1], dtype=int64)"
      ]
     },
     "execution_count": 27,
     "metadata": {},
     "output_type": "execute_result"
    }
   ],
   "source": [
    "class_label = np.argmax(y_pred, 1)\n",
    "class_label[:15]\n",
    "\n",
    "#Returns the index with the largest value across axes of a tensor.\n",
    "#for example,index 0 corresponds to one-hot encoding for non-mpox, and 1 corresponds to mpox"
   ]
  },
  {
   "cell_type": "code",
   "execution_count": 28,
   "id": "eea47a55",
   "metadata": {},
   "outputs": [
    {
     "name": "stdout",
     "output_type": "stream",
     "text": [
      "Rounded Model Predictions | True labels\n",
      "                        1 | [0. 1.]\n",
      "                        1 | [1. 0.]\n",
      "                        0 | [1. 0.]\n",
      "                        0 | [0. 1.]\n",
      "                        0 | [0. 1.]\n",
      "                        1 | [0. 1.]\n",
      "                        1 | [1. 0.]\n",
      "                        0 | [1. 0.]\n",
      "                        1 | [0. 1.]\n",
      "                        1 | [0. 1.]\n",
      "                        1 | [0. 1.]\n",
      "                        1 | [0. 1.]\n",
      "                        1 | [0. 1.]\n",
      "                        1 | [1. 0.]\n",
      "                        1 | [1. 0.]\n",
      "                        0 | [1. 0.]\n",
      "                        1 | [0. 1.]\n",
      "                        1 | [1. 0.]\n",
      "                        1 | [0. 1.]\n",
      "                        0 | [1. 0.]\n",
      "                        1 | [1. 0.]\n",
      "                        1 | [0. 1.]\n",
      "                        1 | [0. 1.]\n",
      "                        0 | [1. 0.]\n",
      "                        0 | [1. 0.]\n"
     ]
    }
   ],
   "source": [
    "# Print preds vs true values\n",
    "print(\"{:10} | {}\".format('Rounded Model Predictions','True labels'))\n",
    "for i, label in enumerate(class_label[:25]):\n",
    "  print(\"{:25} | {}\".format(label, y_test[:25][i]))"
   ]
  },
  {
   "cell_type": "code",
   "execution_count": 29,
   "id": "8c1eb301",
   "metadata": {},
   "outputs": [],
   "source": [
    "from sklearn.metrics import roc_auc_score"
   ]
  },
  {
   "cell_type": "code",
   "execution_count": 30,
   "id": "2a1f543b",
   "metadata": {},
   "outputs": [
    {
     "data": {
      "text/plain": [
       "0.8717692068152498"
      ]
     },
     "execution_count": 30,
     "metadata": {},
     "output_type": "execute_result"
    }
   ],
   "source": [
    "roc_auc_score(y_test, y_pred)"
   ]
  },
  {
   "cell_type": "code",
   "execution_count": null,
   "id": "d80e2ab3",
   "metadata": {},
   "outputs": [],
   "source": []
  }
 ],
 "metadata": {
  "kernelspec": {
   "display_name": "Python 3 (ipykernel)",
   "language": "python",
   "name": "python3"
  },
  "language_info": {
   "codemirror_mode": {
    "name": "ipython",
    "version": 3
   },
   "file_extension": ".py",
   "mimetype": "text/x-python",
   "name": "python",
   "nbconvert_exporter": "python",
   "pygments_lexer": "ipython3",
   "version": "3.9.13"
  }
 },
 "nbformat": 4,
 "nbformat_minor": 5
}
